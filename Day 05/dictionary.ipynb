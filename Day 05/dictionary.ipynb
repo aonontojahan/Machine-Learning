{
 "cells": [
  {
   "cell_type": "code",
   "execution_count": 2,
   "id": "921de41f",
   "metadata": {},
   "outputs": [
    {
     "name": "stdout",
     "output_type": "stream",
     "text": [
      "{'name': 'John', 'age': 25, 'courses': ['Math', 'CompSci']}\n",
      "<class 'dict'>\n"
     ]
    }
   ],
   "source": [
    "students = {\"name\": \"John\", \"age\": 25, \"courses\": [\"Math\", \"CompSci\"]}\n",
    "print(students)\n",
    "print(type(students))"
   ]
  },
  {
   "cell_type": "code",
   "execution_count": 3,
   "id": "8ccee0da",
   "metadata": {},
   "outputs": [
    {
     "name": "stdout",
     "output_type": "stream",
     "text": [
      "{'name': 'John', 'age': 26, 'grade': 'A'}\n",
      "John\n",
      "Not Found\n",
      "A\n"
     ]
    }
   ],
   "source": [
    "information = {\"name\": \"John\", \"age\": 25, \"age\": 26, \"grade\": \"A\"}\n",
    "print(information)\n",
    "print(information[\"name\"])\n",
    "print(information.get('last_name','Not Found'))\n",
    "print(information.get('grade'))"
   ]
  },
  {
   "cell_type": "code",
   "execution_count": 5,
   "id": "0112f2d3",
   "metadata": {},
   "outputs": [
    {
     "name": "stdout",
     "output_type": "stream",
     "text": [
      "name\n",
      "age\n",
      "grade\n"
     ]
    }
   ],
   "source": [
    "for i,j in information.items():\n",
    "    print(i)"
   ]
  },
  {
   "cell_type": "code",
   "execution_count": 7,
   "id": "89932c73",
   "metadata": {},
   "outputs": [
    {
     "name": "stdout",
     "output_type": "stream",
     "text": [
      "name John\n",
      "age 26\n",
      "grade A\n"
     ]
    }
   ],
   "source": [
    "for i,j in information.items():\n",
    "    print(i,j)"
   ]
  },
  {
   "cell_type": "code",
   "execution_count": 8,
   "id": "b08d134e",
   "metadata": {},
   "outputs": [
    {
     "name": "stdout",
     "output_type": "stream",
     "text": [
      "{'StudentsofC': {'name': 'John', 'age': 22}, 'StudentsofE': {'name': 'Jane', 'age': 22}}\n",
      "{'name': 'John', 'age': 22}\n",
      "{'name': 'Jane', 'age': 22}\n"
     ]
    }
   ],
   "source": [
    "#nested dictionary\n",
    "students_CSE ={\n",
    "    \"StudentsofC\": {\"name\": \"John\", \"age\": 22},\n",
    "    \"StudentsofE\": {\"name\": \"Jane\", \"age\": 22}\n",
    "}\n",
    "print(students_CSE)\n",
    "print(students_CSE[\"StudentsofC\"])\n",
    "print(students_CSE[\"StudentsofE\"])"
   ]
  }
 ],
 "metadata": {
  "kernelspec": {
   "display_name": "Python 3",
   "language": "python",
   "name": "python3"
  },
  "language_info": {
   "codemirror_mode": {
    "name": "ipython",
    "version": 3
   },
   "file_extension": ".py",
   "mimetype": "text/x-python",
   "name": "python",
   "nbconvert_exporter": "python",
   "pygments_lexer": "ipython3",
   "version": "3.13.5"
  }
 },
 "nbformat": 4,
 "nbformat_minor": 5
}
