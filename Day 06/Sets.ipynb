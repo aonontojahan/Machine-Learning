{
 "cells": [
  {
   "cell_type": "code",
   "execution_count": 1,
   "id": "c4e5a867",
   "metadata": {},
   "outputs": [
    {
     "name": "stdout",
     "output_type": "stream",
     "text": [
      "Original List: [1, 2, 3, 4, 5, 2, 3, 4, 5]\n"
     ]
    }
   ],
   "source": [
    "list1 = [1,2,3,4,5,2,3,4,5]\n",
    "print(\"Original List:\", list1)"
   ]
  },
  {
   "cell_type": "markdown",
   "id": "6ef9e3ab",
   "metadata": {},
   "source": [
    "Sets\n",
    "Sets basically providing unique value\n"
   ]
  },
  {
   "cell_type": "code",
   "execution_count": 2,
   "id": "d2e0de49",
   "metadata": {},
   "outputs": [
    {
     "name": "stdout",
     "output_type": "stream",
     "text": [
      "{1, 2, 3, 4, 5}\n"
     ]
    }
   ],
   "source": [
    "set1 = set(list1)\n",
    "print(set1)"
   ]
  },
  {
   "cell_type": "code",
   "execution_count": 3,
   "id": "5f9b5d3b",
   "metadata": {},
   "outputs": [
    {
     "name": "stdout",
     "output_type": "stream",
     "text": [
      "My Set: {1, 2, 3, 4, 5, 6}\n"
     ]
    }
   ],
   "source": [
    "my_set = set([1, 2, 3, 4, 5,6])\n",
    "print(\"My Set:\", my_set)"
   ]
  },
  {
   "cell_type": "code",
   "execution_count": 4,
   "id": "478641ca",
   "metadata": {},
   "outputs": [
    {
     "name": "stdout",
     "output_type": "stream",
     "text": [
      "My Empty Set: {1, 2, 3, 4, 5}\n"
     ]
    }
   ],
   "source": [
    "my_empty_set = set([1,2,3,4,5,4,3,2,1])\n",
    "print(\"My Empty Set:\", my_empty_set)"
   ]
  },
  {
   "cell_type": "code",
   "execution_count": 5,
   "id": "d9ab84ae",
   "metadata": {},
   "outputs": [
    {
     "name": "stdout",
     "output_type": "stream",
     "text": [
      "After Adding 6: {1, 2, 3, 4, 5, 6}\n"
     ]
    }
   ],
   "source": [
    "my_empty_set.add(6)\n",
    "print(\"After Adding 6:\", my_empty_set)"
   ]
  },
  {
   "cell_type": "code",
   "execution_count": 20,
   "id": "96987a67",
   "metadata": {},
   "outputs": [
    {
     "name": "stdout",
     "output_type": "stream",
     "text": [
      "After Adding 7: {7}\n"
     ]
    }
   ],
   "source": [
    "my_empty_set.add(7)\n",
    "print(\"After Adding 7:\", my_empty_set)"
   ]
  },
  {
   "cell_type": "code",
   "execution_count": 25,
   "id": "3eb684ff",
   "metadata": {},
   "outputs": [
    {
     "name": "stdout",
     "output_type": "stream",
     "text": [
      "My Sets: {1, 2, 3, 4, 5}\n",
      "Length of My Sets: 5\n",
      "After Removing 3: {1, 2, 4, 5}\n",
      "After Discarding 10: {1, 2, 4, 5}\n",
      "After Popping an Element: {2, 4, 5}\n",
      "Is 4 in My Sets? True\n",
      "After Clearing the Set: set()\n"
     ]
    }
   ],
   "source": [
    "my_sets = {1,2,3,4,5,5,4,3,2,1}\n",
    "print(\"My Sets:\", my_sets)\n",
    "print(\"Length of My Sets:\", len(my_sets))\n",
    "my_sets.remove(3)\n",
    "print(\"After Removing 3:\", my_sets)\n",
    "my_sets.discard(10)  # Does not raise an error if 10 is not found\n",
    "print(\"After Discarding 10:\", my_sets)\n",
    "my_sets.pop()\n",
    "print(\"After Popping an Element:\", my_sets)\n",
    "print(\"Is 4 in My Sets?\", 4 in my_sets)\n",
    "my_sets.clear()\n",
    "print(\"After Clearing the Set:\", my_sets)"
   ]
  }
 ],
 "metadata": {
  "kernelspec": {
   "display_name": "Python 3",
   "language": "python",
   "name": "python3"
  },
  "language_info": {
   "codemirror_mode": {
    "name": "ipython",
    "version": 3
   },
   "file_extension": ".py",
   "mimetype": "text/x-python",
   "name": "python",
   "nbconvert_exporter": "python",
   "pygments_lexer": "ipython3",
   "version": "3.13.5"
  }
 },
 "nbformat": 4,
 "nbformat_minor": 5
}
