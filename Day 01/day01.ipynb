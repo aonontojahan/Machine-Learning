{
 "cells": [
  {
   "cell_type": "markdown",
   "id": "b9753522",
   "metadata": {},
   "source": [
    "First Day of Machine Learning\n",
    "Lets try some basic of Python"
   ]
  },
  {
   "cell_type": "code",
   "execution_count": 2,
   "id": "cfdb34c7",
   "metadata": {},
   "outputs": [
    {
     "name": "stdout",
     "output_type": "stream",
     "text": [
      "This is Aononto Jahan Junnurain\n",
      "Currently I am doing my Bsc at International University of Business Agriculture and Technology (IUBAT) This is my last year of Bsc\n"
     ]
    }
   ],
   "source": [
    "print(\"This is Aononto Jahan Junnurain\")\n",
    "print(\"Currently I am doing my Bsc at International University of Business Agriculture and Technology (IUBAT)\"+\" This is my last year of Bsc\")"
   ]
  },
  {
   "cell_type": "code",
   "execution_count": 3,
   "id": "0a1b7b05",
   "metadata": {},
   "outputs": [
    {
     "name": "stdout",
     "output_type": "stream",
     "text": [
      "Hello, Aononto! Welcome to the Python programming world.\n",
      "Thank You Aononto for visiting my program\n",
      "Have a great day, Aononto!\n"
     ]
    }
   ],
   "source": [
    "name = input(\"Enter your name: \")\n",
    "print(\"Hello, \" + name + \"! Welcome to the Python programming world.\")\n",
    "print(\"Thank You\",name,\"for visiting my program\")\n",
    "\n",
    "print(f\"Have a great day, {name}!\")"
   ]
  },
  {
   "cell_type": "code",
   "execution_count": 4,
   "id": "693de57d",
   "metadata": {},
   "outputs": [
    {
     "name": "stdout",
     "output_type": "stream",
     "text": [
      "The sum of 6 and 7.0 is: 13.0\n"
     ]
    }
   ],
   "source": [
    "a = int(input(\"Enter first number: \"))\n",
    "b = float(input(\"Enter second number: \"))\n",
    "sum = a + b\n",
    "print(\"The sum of\", a, \"and\", b, \"is:\", sum)"
   ]
  },
  {
   "cell_type": "code",
   "execution_count": 5,
   "id": "b0751487",
   "metadata": {},
   "outputs": [
    {
     "name": "stdout",
     "output_type": "stream",
     "text": [
      "Seconds in a day: 86400 secounds\n",
      "Seconds in a week: 604800 secounds\n"
     ]
    }
   ],
   "source": [
    "secounds_in_a_day = 24 * 60 * 60\n",
    "print(f\"Seconds in a day: {secounds_in_a_day}\" + \" secounds\")\n",
    "secounds_in_a_week = secounds_in_a_day * 7\n",
    "print(f\"Seconds in a week: {secounds_in_a_week}\" + \" secounds\")"
   ]
  },
  {
   "cell_type": "code",
   "execution_count": 6,
   "id": "cc95102e",
   "metadata": {},
   "outputs": [
    {
     "name": "stdout",
     "output_type": "stream",
     "text": [
      "Your name is :  Aonotno\n",
      "Total income over 1.3 years: $7800.0\n"
     ]
    }
   ],
   "source": [
    "name = input(\"Enter your name: \")\n",
    "age = int(input(\"Enter your age: \"))\n",
    "salary = float(input(\"Enter your salary: \"))\n",
    "years_of_experience = float(input(\"Enter your years of experience: \"))\n",
    "\n",
    "total_income = salary * years_of_experience * 12\n",
    "\n",
    "print(\"Your name is : \", name)\n",
    "print(f\"Total income over {years_of_experience} years: ${total_income}\")"
   ]
  }
 ],
 "metadata": {
  "kernelspec": {
   "display_name": ".venv",
   "language": "python",
   "name": "python3"
  },
  "language_info": {
   "codemirror_mode": {
    "name": "ipython",
    "version": 3
   },
   "file_extension": ".py",
   "mimetype": "text/x-python",
   "name": "python",
   "nbconvert_exporter": "python",
   "pygments_lexer": "ipython3",
   "version": "3.13.5"
  }
 },
 "nbformat": 4,
 "nbformat_minor": 5
}
