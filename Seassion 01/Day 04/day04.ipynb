{
 "cells": [
  {
   "cell_type": "markdown",
   "id": "cfe05b11",
   "metadata": {},
   "source": [
    "Function and Module"
   ]
  },
  {
   "cell_type": "code",
   "execution_count": 2,
   "id": "8e4ecf1e",
   "metadata": {},
   "outputs": [
    {
     "name": "stdout",
     "output_type": "stream",
     "text": [
      "9\n",
      "27\n",
      "81\n"
     ]
    }
   ],
   "source": [
    "def power(base, exponenet = 2):\n",
    "    return base ** exponenet\n",
    "\n",
    "print(power(3))\n",
    "print(power(3, 3))\n",
    "print(power(3, 4))"
   ]
  },
  {
   "cell_type": "markdown",
   "id": "c826ffa6",
   "metadata": {},
   "source": [
    "Module are those which are basically module\n",
    "This can be imported \n",
    "Ex:\n",
    "import math\n",
    "import random\n",
    "from random import randint, choice"
   ]
  },
  {
   "cell_type": "code",
   "execution_count": null,
   "id": "41ca05a2",
   "metadata": {},
   "outputs": [],
   "source": [
    "from math import pi, sqrt\n",
    "from math import pi as p, sqrt as s\n",
    "from random import randint, choice\n",
    " "
   ]
  },
  {
   "cell_type": "code",
   "execution_count": 4,
   "id": "ce3d16e1",
   "metadata": {},
   "outputs": [
    {
     "name": "stdout",
     "output_type": "stream",
     "text": [
      "Area of circle is: 12.566370614359172\n"
     ]
    }
   ],
   "source": [
    "from math import sin, pi\n",
    "\n",
    "def calculation_of_circle_area():\n",
    "    r = int(input(\"Enter the radius of circle: \"))\n",
    "    area = pi * r * r\n",
    "    return area\n",
    "\n",
    "print(f\"Area of circle is: {calculation_of_circle_area()}\")"
   ]
  },
  {
   "cell_type": "code",
   "execution_count": 9,
   "id": "76ac1eb2",
   "metadata": {},
   "outputs": [
    {
     "name": "stdout",
     "output_type": "stream",
     "text": [
      "Area of triangle is: 28.0\n"
     ]
    }
   ],
   "source": [
    "from math import pi, sqrt, sin, cos, tan, factorial\n",
    "\n",
    "def trigonometric_calculations():\n",
    "    base = int(input(\"Enter the base: \"))\n",
    "    height = int(input(\"Enter the height: \"))\n",
    "    area = 0.5 * base * height\n",
    "    \n",
    "    return area\n",
    "print(f\"Area of triangle is: {trigonometric_calculations()}\")\n"
   ]
  },
  {
   "cell_type": "code",
   "execution_count": 16,
   "id": "e3ad64b3",
   "metadata": {},
   "outputs": [
    {
     "name": "stdout",
     "output_type": "stream",
     "text": [
      "Your rounded cgpa is 3\n",
      "Your rounded salary is 209858\n"
     ]
    }
   ],
   "source": [
    "cgpa = float(input(\"Enter your CGPA: \"))\n",
    "salary = float(input(\"Enter your expected salary: \"))\n",
    "print(f\"Your rounded cgpa is {round(cgpa)}\")\n",
    "print(f\"Your rounded salary is {round(salary)}\")\n"
   ]
  },
  {
   "cell_type": "code",
   "execution_count": 17,
   "id": "ac15a5e4",
   "metadata": {},
   "outputs": [
    {
     "name": "stdout",
     "output_type": "stream",
     "text": [
      "34\n",
      "C++\n"
     ]
    }
   ],
   "source": [
    "from random import randint, choice\n",
    "print(randint(1, 100))\n",
    "print(choice(['Python', 'Java', 'C++', 'JavaScript', 'Ruby']))"
   ]
  },
  {
   "cell_type": "code",
   "execution_count": 29,
   "id": "1a5deab4",
   "metadata": {},
   "outputs": [
    {
     "name": "stdout",
     "output_type": "stream",
     "text": [
      "Group 1: [6, 15, 14, 4, 28, 1, 24, 13, 2, 11, 26]\n",
      "Group 2: [18, 3, 30, 23, 20, 7, 12, 27, 17, 8, 21]\n",
      "Group 3: [25, 10, 9, 22, 19, 16, 5, 29]\n"
     ]
    }
   ],
   "source": [
    "import random\n",
    "students = list(range(1, 31))\n",
    "random.shuffle(students)\n",
    "group_size = int(input(\"Enter the size of each group: \"))\n",
    "groups = int(input(\"Enter the number of groups: \"))\n",
    "\n",
    "group1 = students[:group_size]\n",
    "group2 = students[group_size:group_size*2]\n",
    "group3 = students[group_size*2:group_size*3]\n",
    "\n",
    "print(f\"Group 1: {group1}\")\n",
    "print(f\"Group 2: {group2}\")\n",
    "print(f\"Group 3: {group3}\")\n"
   ]
  },
  {
   "cell_type": "markdown",
   "id": "c4194d17",
   "metadata": {},
   "source": [
    "Conditional Statement"
   ]
  },
  {
   "cell_type": "code",
   "execution_count": 34,
   "id": "5765dfd5",
   "metadata": {},
   "outputs": [
    {
     "name": "stdout",
     "output_type": "stream",
     "text": [
      "7 is a positive number.\n"
     ]
    }
   ],
   "source": [
    "number = int(input(\"Enter a number: \"))\n",
    "if number > 0:\n",
    "    print(f\"{number} is a positive number.\")\n",
    "elif number < 0:\n",
    "    print(f\"{number} is a negative number.\")\n",
    "else:\n",
    "    print(\"The number is zero.\")"
   ]
  },
  {
   "cell_type": "code",
   "execution_count": 1,
   "id": "91a834d6",
   "metadata": {},
   "outputs": [
    {
     "name": "stdout",
     "output_type": "stream",
     "text": [
      "5 is between 1 and 10. And its a odd number.\n"
     ]
    }
   ],
   "source": [
    "number = int(input(\"Enter a number between 1-10 : \"))\n",
    "if (number >=1 and number <=10) and (number % 2 == 0):\n",
    "    print(f\"{number} is between 1 and 10. And its a even number.\")\n",
    "elif (number >1 and number <=10) and (number % 2 != 0):\n",
    "    print(f\"{number} is between 1 and 10. And its a odd number.\")\n",
    "else:\n",
    "    print(\"Please try again. Your input is out of range.\")"
   ]
  },
  {
   "cell_type": "code",
   "execution_count": null,
   "id": "bdfe62ad",
   "metadata": {},
   "outputs": [
    {
     "name": "stdout",
     "output_type": "stream",
     "text": [
      "EVA is not available.\n"
     ]
    }
   ],
   "source": [
    "names = ['Alice', 'Bob', 'Charlie', 'David', 'Eva']\n",
    "name = input(\"Welcome, whom are you looking for? \".lower())\n",
    "\n",
    "if name == \"alice\" or name == \"bob\" or name == \"charlie\" or name == \"david\" :\n",
    "    print(f\"{name} is available.\")\n",
    "\n",
    "elif name == \"eva\":\n",
    "    print(f\"We dont fuck with MAGI {name}\")\n",
    "    \n",
    "else:\n",
    "    print(f\"{name} is not available.\")"
   ]
  },
  {
   "cell_type": "code",
   "execution_count": 5,
   "id": "3154d75e",
   "metadata": {},
   "outputs": [
    {
     "name": "stdout",
     "output_type": "stream",
     "text": [
      "Wellcome to our appertment\n"
     ]
    }
   ],
   "source": [
    "names = ['Alice', 'Bob', 'Charlie', 'David', 'Eva']\n",
    "name = input(\"Welcome, whom are you looking for? \".lower())\n",
    "\n",
    "if name in names:\n",
    "    print(f\"Wellcome to our appertment\")\n",
    "\n",
    "else:\n",
    "    print(f\"You are not in our appertment menber\")"
   ]
  },
  {
   "cell_type": "code",
   "execution_count": 8,
   "id": "687dcc60",
   "metadata": {},
   "outputs": [
    {
     "name": "stdout",
     "output_type": "stream",
     "text": [
      "Your guess number was 7 and the fixed number is 8\n"
     ]
    }
   ],
   "source": [
    "# number gessing\n",
    "import random\n",
    "fixed_number = random.randint(1,10)\n",
    "guess_number = int(input(\"Please enter your guess number : \"))\n",
    "\n",
    "if guess_number == fixed_number:\n",
    "    print(f\"Your guess number was {guess_number} and the fixed number is {fixed_number}\")\n",
    "    print(\"Congratulations\")\n",
    "else:\n",
    "    print(f\"Your guess number was {guess_number} and the fixed number is {fixed_number}\")"
   ]
  },
  {
   "cell_type": "code",
   "execution_count": 14,
   "id": "40010912",
   "metadata": {},
   "outputs": [
    {
     "name": "stdout",
     "output_type": "stream",
     "text": [
      "Dear Aononto sir, You have  to pay 950.0 $\n",
      "You can pay with card as well as cash\n",
      "Dear Aononto sir, As you dont have our membership card, You will not get any discount.\n",
      "But if you buy our membership card, You will get 20% for normal disscount.\n",
      "And extra 10% discount for being new memeber.\n",
      "If you want to apply for membership You can create it here\n",
      "Please wait, We are creating your membership...\n",
      "Your membership has been created successfully.\n",
      "As you are new member, You will get extra 10% discount.\n",
      "Normal discount 20% + New member discount 10% = Total 30% discount\n",
      "After all Your total ammount is : 665.0\n"
     ]
    }
   ],
   "source": [
    "name = input(\"Please enter your name : \")\n",
    "\n",
    "meet = float(input(\"Please enter your meet ammount into kg : \"))\n",
    "vagitables = float(input(\"Please enter your vagitable ammount into kg : \"))\n",
    "fruits = float(input(\"Please enter your fruit ammount into kg : \"))\n",
    "medicines = float(input(\"Please enter your medicine ammount into Tab : \"))\n",
    "drinks = float(input(\"Please enter your drink ammount into Bottle : \"))\n",
    "\n",
    "meet_ammount = meet * 200\n",
    "vagitables_ammount = vagitables * 100\n",
    "fruits_ammount = fruits * 80\n",
    "medicines_ammount = medicines * 50\n",
    "drinks_ammount = drinks * 40\n",
    "total_ammount = meet_ammount + vagitables_ammount + fruits_ammount + medicines_ammount + drinks_ammount\n",
    "print(f\"Dear {name} sir, You have  to pay {total_ammount} $\")\n",
    "print(\"You can pay with card as well as cash\")\n",
    "\n",
    "membership =input(f\"Hello {name} sir. Do you have any membership? (yes/no)\".lower())\n",
    "\n",
    "if membership == \"yes\":\n",
    "    print(f\"Dear {name} sir, As you have our membership card, You will get 20% discount.\")\n",
    "    print(\"Please give your membership card.\")\n",
    "    print(\"Verifying your membership card...\")\n",
    "    print(f\"Your total ammount is : {total_ammount - (total_ammount * 0.2)} $\")\n",
    "    \n",
    "elif membership == \"no\":\n",
    "    print(f\"Dear {name} sir, As you dont have our membership card, You will not get any discount.\")\n",
    "    print(\"But if you buy our membership card, You will get 20% for normal disscount.\")\n",
    "    print(\"And extra 10% discount for being new memeber.\")\n",
    "    print(\"If you want to apply for membership You can create it here\")\n",
    "    \n",
    "    new_membership = input(\"Do you want to create membership? (yes/no) \")\n",
    "    new_membership = new_membership.lower()\n",
    "    if new_membership == \"yes\":\n",
    "        print(\"Please wait, We are creating your membership...\")\n",
    "        print(\"Your membership has been created successfully.\")\n",
    "        print(\"As you are new member, You will get extra 10% discount.\")\n",
    "        print(\"Normal discount 20% + New member discount 10% = Total 30% discount\")\n",
    "        print(f\"After all Your total ammount is : {total_ammount - (total_ammount * 0.3)}\")\n",
    "    else:\n",
    "        print(f\"Your total ammount is : {total_ammount} $\")\n",
    "else:\n",
    "    print(\"Invalid input. Please enter 'yes' or 'no'.\")\n"
   ]
  },
  {
   "cell_type": "markdown",
   "id": "81c70f97",
   "metadata": {},
   "source": [
    "Loop \n",
    "Repetation"
   ]
  },
  {
   "cell_type": "code",
   "execution_count": 16,
   "id": "c045f4ed",
   "metadata": {},
   "outputs": [
    {
     "name": "stdout",
     "output_type": "stream",
     "text": [
      "Lets print the number of you given range: \n",
      "2 3 4 5 6 7 8 9 \n",
      "\n",
      "This are the numbers\n"
     ]
    }
   ],
   "source": [
    "# We are practicing some loop problem\n",
    "\n",
    "minimum_range = int(input(\"Please enter the minimum number of the range: \"))\n",
    "maximun_range = int(input(\"Please enter the maximum number of the range: \"))\n",
    "\n",
    "print(\"Lets print the number of you given range: \")\n",
    "\n",
    "for number in range(minimum_range, maximun_range + 1):\n",
    "    print(number, end = \" \")\n",
    "print(\"\\n\")\n",
    "print(\"This are the numbers\")"
   ]
  },
  {
   "cell_type": "code",
   "execution_count": 22,
   "id": "69b61902",
   "metadata": {},
   "outputs": [
    {
     "name": "stdout",
     "output_type": "stream",
     "text": [
      "The length of name of friends list is  5\n",
      "0\n",
      "1\n",
      "2\n",
      "3\n",
      "4\n",
      "sagor\n",
      "Aononto\n",
      "Jahan\n",
      "Junnurain\n",
      "Rakib\n"
     ]
    }
   ],
   "source": [
    "names_of_frineds = [ \"sagor\", \"Aononto\", \"Jahan\", \"Junnurain\", \"Rakib\"]\n",
    "print(\"The length of name of friends list is \", len(names_of_frineds))\n",
    "\n",
    "for friends_name in range(len(names_of_frineds)):\n",
    "    print(friends_name)\n",
    "    \n",
    "for friends_name in names_of_frineds:\n",
    "    print(friends_name)\n"
   ]
  },
  {
   "cell_type": "code",
   "execution_count": 29,
   "id": "338aaa7a",
   "metadata": {},
   "outputs": [
    {
     "name": "stdout",
     "output_type": "stream",
     "text": [
      "Cheacking how much a charecter in your name\n",
      "Your name is aononto jahan junnurain\n",
      "Times of a in your name is :  4\n"
     ]
    }
   ],
   "source": [
    "identity = input(\"Please enter your name : \")\n",
    "\n",
    "print(\"Cheacking how much a charecter in your name\")\n",
    "identity = identity.lower()\n",
    "print(f\"Your name is {identity}\")\n",
    "print(\"Times of a in your name is : \", identity.count('a'))\n",
    "\n"
   ]
  },
  {
   "cell_type": "code",
   "execution_count": 31,
   "id": "304f447c",
   "metadata": {},
   "outputs": [
    {
     "name": "stdout",
     "output_type": "stream",
     "text": [
      "Aononto Jahan Junnurain Sir, In Your name The number of vowel is 9 and the number of consonent is 12\n"
     ]
    }
   ],
   "source": [
    "name = input(\"Enter your name \".lower())\n",
    "consonant = 0\n",
    "vowel = 0\n",
    "\n",
    "for alphabet in name:\n",
    "    if (alphabet == \" \"):\n",
    "        continue\n",
    "    elif (alphabet == 'a' or alphabet == 'e' or alphabet == 'i' or alphabet == 'o' or alphabet == 'u'):\n",
    "        vowel += 1\n",
    "    else:\n",
    "        consonant +=1\n",
    "        \n",
    "print(f\"{name} Sir, In Your name The number of vowel is {vowel} and the number of consonent is {consonant}\")"
   ]
  },
  {
   "cell_type": "markdown",
   "id": "7ff324c7",
   "metadata": {},
   "source": [
    "While Loop\n",
    "while condition"
   ]
  },
  {
   "cell_type": "code",
   "execution_count": 4,
   "id": "02a07498",
   "metadata": {},
   "outputs": [
    {
     "name": "stdout",
     "output_type": "stream",
     "text": [
      "1\n",
      "2\n",
      "3\n",
      "4\n",
      "5\n",
      "6\n",
      "7\n",
      "8\n",
      "9\n"
     ]
    }
   ],
   "source": [
    "number_for_starting = int(input(\"Please enter a number from where you want to start: \"))\n",
    "number_for_ending = int(input(\"Please enter a number from where you want to finish\"))\n",
    "\n",
    "while number_for_starting != number_for_ending:\n",
    "    print(number_for_starting)\n",
    "    number_for_starting +=1"
   ]
  },
  {
   "cell_type": "markdown",
   "id": "b5447175",
   "metadata": {},
   "source": [
    "List"
   ]
  },
  {
   "cell_type": "code",
   "execution_count": 3,
   "id": "154f0ef6",
   "metadata": {},
   "outputs": [
    {
     "name": "stdout",
     "output_type": "stream",
     "text": [
      "The type is : <class 'str'>\n",
      "['A', 'o', 'n', 'o', 'n', 't', 'o']\n",
      "The type is : <class 'list'>\n"
     ]
    }
   ],
   "source": [
    "name = \"Aononto\"\n",
    "print(f\"The type is : {type(name)}\")\n",
    "name = list(name)\n",
    "print(name)\n",
    "print(f\"The type is : {type(name)}\")"
   ]
  },
  {
   "cell_type": "code",
   "execution_count": 7,
   "id": "129b88a9",
   "metadata": {},
   "outputs": [
    {
     "name": "stdout",
     "output_type": "stream",
     "text": [
      "ingradiants type: <class 'bool'>\n"
     ]
    }
   ],
   "source": [
    "cooking_material = [ \"Rice\", \"Oil\", True, 3, 4, 5]\n",
    "print(f\"ingradiants type: {type(cooking_material[2])}\")"
   ]
  },
  {
   "cell_type": "code",
   "execution_count": null,
   "id": "a5806851",
   "metadata": {},
   "outputs": [
    {
     "name": "stdout",
     "output_type": "stream",
     "text": [
      "['Mango', 'Bananan', 'Guava', 'Apple']\n",
      "['Bananan', 'Guava', 'Apple', 'Jackfruit']\n",
      "['Bananan', 'Guava']\n",
      "['Mango', 'Bananan', 'Guava', 'Apple', 'Watermelon']\n",
      "['Mango', 'Bananan', 'Guava', 'Apple', 'Watermelon', 'Jackfruit', 'Orrange']\n",
      "['Mango', 'Berry', 'Bananan', 'Guava', 'Apple', 'Watermelon', 'Jackfruit', 'Orrange']\n",
      "['Mango', 'Berry', 'Mango', 'Bananan', 'Guava', 'Apple', 'Watermelon', 'Jackfruit', 'Orrange']\n",
      "['Berry', 'Mango', 'Bananan', 'Guava', 'Apple', 'Watermelon', 'Jackfruit', 'Orrange']\n"
     ]
    }
   ],
   "source": [
    "fruits = [\"Mango\", \"Bananan\", \"Mango\", \"Guava\", \"Apple\", \"Jackfruit\"]\n",
    "print(fruits[:4])\n",
    "print(fruits[1:])\n",
    "print(fruits[1:3])\n",
    "fruits[4] = \"Watermelon\"\n",
    "print(fruits)\n",
    "fruits.append(\"Jackfruit\")\n",
    "fruits.append(\"Orrange\")\n",
    "print(fruits)\n",
    "fruits.insert(1,\"Berry\")\n",
    "print(fruits)\n",
    "fruits.insert(2, \"Mango\")\n",
    "print(fruits)\n",
    "fruits.remove(\"Mango\")\n",
    "print(fruits)"
   ]
  },
  {
   "cell_type": "code",
   "execution_count": 28,
   "id": "b7637c63",
   "metadata": {},
   "outputs": [
    {
     "name": "stdout",
     "output_type": "stream",
     "text": [
      "['Berry', 'Mango', 'Bananan', 'Guava', 'Apple', 'Watermelon', 'Mango']\n",
      "['Berry', 'Bananan', 'Guava', 'Apple', 'Watermelon']\n"
     ]
    }
   ],
   "source": [
    "fruits.append(\"Mango\")\n",
    "fruits.insert(1,\"Mango\")\n",
    "print(fruits)\n",
    "for item in fruits:\n",
    " if item == \"Mango\":\n",
    "     fruits.remove(item)\n",
    "print(fruits)"
   ]
  },
  {
   "cell_type": "code",
   "execution_count": 31,
   "id": "b10b2efd",
   "metadata": {},
   "outputs": [
    {
     "name": "stdout",
     "output_type": "stream",
     "text": [
      "['Berry', 'Bananan', 'Guava']\n",
      "Guava\n",
      "['Berry', 'Bananan']\n",
      "0\n"
     ]
    }
   ],
   "source": [
    "print(fruits)\n",
    "popped_fruits = fruits.pop()\n",
    "print(popped_fruits)\n",
    "print(fruits)\n",
    "index = fruits.index(\"Berry\")\n",
    "print(index)"
   ]
  },
  {
   "cell_type": "code",
   "execution_count": 47,
   "id": "71345e16",
   "metadata": {},
   "outputs": [
    {
     "name": "stdout",
     "output_type": "stream",
     "text": [
      "['Aononto', 'Jahan', 'Junnurain', 'Rakib', 'Sagor']\n"
     ]
    }
   ],
   "source": [
    "frined_name = [\"Aononto\", \"Jahan\", \"Junnurain\", \"Rakib\", \"Sagor\"]\n",
    "frined_name.sort()\n",
    "print(frined_name)"
   ]
  },
  {
   "cell_type": "code",
   "execution_count": 60,
   "id": "4b867fef",
   "metadata": {},
   "outputs": [
    {
     "data": {
      "text/plain": [
       "[1, 3, 5, 7, 9, 11, 13, 15, 17, 19, 21, 23, 25]"
      ]
     },
     "execution_count": 60,
     "metadata": {},
     "output_type": "execute_result"
    }
   ],
   "source": [
    "set_of_numbers = [1,2,3,4,5,6,7,8,9,10,11,12,13,14,15,16,17,18,19,20,21,22,23,24,25]\n",
    "set_of_numbers[::2]\n",
    "\n"
   ]
  },
  {
   "cell_type": "code",
   "execution_count": 61,
   "id": "dd90ced4",
   "metadata": {},
   "outputs": [
    {
     "data": {
      "text/plain": [
       "[24, 22, 20, 18, 16, 14, 12, 10, 8, 6, 4, 2]"
      ]
     },
     "execution_count": 61,
     "metadata": {},
     "output_type": "execute_result"
    }
   ],
   "source": [
    "set_of_numbers = [1,2,3,4,5,6,7,8,9,10,11,12,13,14,15,16,17,18,19,20,21,22,23,24,25]\n",
    "set_of_numbers[-2::-2]"
   ]
  },
  {
   "cell_type": "code",
   "execution_count": 64,
   "id": "6527f3ca",
   "metadata": {},
   "outputs": [
    {
     "name": "stdout",
     "output_type": "stream",
     "text": [
      "1 2 3 4 5 6 7 8 9 10 11 12 13 14 15 16 17 18 19 20 21 22 23 24 25 "
     ]
    }
   ],
   "source": [
    "for i in set_of_numbers:\n",
    "    print(i, end= \" \")"
   ]
  },
  {
   "cell_type": "code",
   "execution_count": 65,
   "id": "ffe4bc61",
   "metadata": {},
   "outputs": [
    {
     "name": "stdout",
     "output_type": "stream",
     "text": [
      "0 1\n",
      "1 2\n",
      "2 3\n",
      "3 4\n",
      "4 5\n",
      "5 6\n",
      "6 7\n",
      "7 8\n",
      "8 9\n",
      "9 10\n",
      "10 11\n",
      "11 12\n",
      "12 13\n",
      "13 14\n",
      "14 15\n",
      "15 16\n",
      "16 17\n",
      "17 18\n",
      "18 19\n",
      "19 20\n",
      "20 21\n",
      "21 22\n",
      "22 23\n",
      "23 24\n",
      "24 25\n"
     ]
    }
   ],
   "source": [
    "#innomorate\n",
    "for index, number in enumerate(set_of_numbers):\n",
    "    print(index,number)"
   ]
  },
  {
   "cell_type": "code",
   "execution_count": null,
   "id": "f9a8a0e0",
   "metadata": {},
   "outputs": [
    {
     "name": "stdout",
     "output_type": "stream",
     "text": [
      "[0, 1, 4, 9, 16, 25, 36, 49, 64, 81]\n",
      "[0, 1, 2, 3, 4, 5, 6, 7, 8, 9]\n",
      "[0, 1, 4, 9, 16, 25, 36, 49, 64, 81]\n",
      "[1, 9, 25, 49, 81]\n"
     ]
    }
   ],
   "source": [
    "lst = []\n",
    "for x in range(10):\n",
    "    lst.append(x**2)\n",
    "print(lst)\n",
    "\n",
    "print([x for x in range(10)])\n",
    "print([x**2 for x in range(10)]) \n",
    "print([x**2 for x in range(10) if x % 2 == 1])\n",
    " "
   ]
  }
 ],
 "metadata": {
  "kernelspec": {
   "display_name": "Python 3",
   "language": "python",
   "name": "python3"
  },
  "language_info": {
   "codemirror_mode": {
    "name": "ipython",
    "version": 3
   },
   "file_extension": ".py",
   "mimetype": "text/x-python",
   "name": "python",
   "nbconvert_exporter": "python",
   "pygments_lexer": "ipython3",
   "version": "3.13.5"
  }
 },
 "nbformat": 4,
 "nbformat_minor": 5
}
