{
 "cells": [
  {
   "cell_type": "markdown",
   "id": "5a8954b9",
   "metadata": {},
   "source": [
    "Git\n",
    "GitHub\n",
    "VS Code\n",
    "Git Command:\n",
    "git status\n",
    "git init\n",
    "git add .\n",
    "git commit -m \"Whatever you want to write\"\n",
    "git push origin main\n"
   ]
  },
  {
   "cell_type": "markdown",
   "id": "97cdc37e",
   "metadata": {},
   "source": [
    "Introduction to Function\n",
    "\n",
    "def function_name(parameters):\n",
    "    #function_body\n",
    "    #code to be executed\n",
    "    return result #optional\n"
   ]
  },
  {
   "cell_type": "code",
   "execution_count": 22,
   "id": "c5ffad60",
   "metadata": {},
   "outputs": [
    {
     "name": "stdout",
     "output_type": "stream",
     "text": [
      "This script will greet you.\n",
      "The function works as follows:\n",
      "Hello, Aononto!\n"
     ]
    }
   ],
   "source": [
    "def name_input():\n",
    "    name = input(\"Please enter your name: \")\n",
    "    print(f\"Hello, {name}!\")\n",
    "\n",
    "print(\"This script will greet you.\")\n",
    "print(\"The function works as follows:\")\n",
    "name_input()\n"
   ]
  },
  {
   "cell_type": "code",
   "execution_count": 25,
   "id": "daa0fd12",
   "metadata": {},
   "outputs": [
    {
     "name": "stdout",
     "output_type": "stream",
     "text": [
      "Hello!\n"
     ]
    },
    {
     "data": {
      "text/plain": [
       "'Aononto'"
      ]
     },
     "execution_count": 25,
     "metadata": {},
     "output_type": "execute_result"
    }
   ],
   "source": [
    "def great(name):\n",
    "    print(f\"Hello!\")\n",
    "    return name\n",
    "\n",
    "name = input(\"Please enter your name: \")\n",
    "great(name)"
   ]
  }
 ],
 "metadata": {
  "kernelspec": {
   "display_name": ".venv",
   "language": "python",
   "name": "python3"
  },
  "language_info": {
   "codemirror_mode": {
    "name": "ipython",
    "version": 3
   },
   "file_extension": ".py",
   "mimetype": "text/x-python",
   "name": "python",
   "nbconvert_exporter": "python",
   "pygments_lexer": "ipython3",
   "version": "3.13.5"
  }
 },
 "nbformat": 4,
 "nbformat_minor": 5
}
