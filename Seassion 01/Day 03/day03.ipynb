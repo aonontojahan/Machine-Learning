{
 "cells": [
  {
   "cell_type": "markdown",
   "id": "5a8954b9",
   "metadata": {},
   "source": [
    "Git\n",
    "GitHub\n",
    "VS Code\n",
    "Git Command:\n",
    "git status\n",
    "git init\n",
    "git add .\n",
    "git commit -m \"Whatever you want to write\"\n",
    "git push origin main\n"
   ]
  },
  {
   "cell_type": "markdown",
   "id": "97cdc37e",
   "metadata": {},
   "source": [
    "Introduction to Function\n",
    "\n",
    "def function_name(parameters):\n",
    "    #function_body\n",
    "    #code to be executed\n",
    "    return result #optional\n"
   ]
  },
  {
   "cell_type": "code",
   "execution_count": 4,
   "id": "565fc4e7",
   "metadata": {},
   "outputs": [],
   "source": [
    "def name_input(name = \"Aononto\"):\n",
    "    print(f\"Hello, {name} !\")"
   ]
  }
 ],
 "metadata": {
  "kernelspec": {
   "display_name": ".venv",
   "language": "python",
   "name": "python3"
  },
  "language_info": {
   "codemirror_mode": {
    "name": "ipython",
    "version": 3
   },
   "file_extension": ".py",
   "mimetype": "text/x-python",
   "name": "python",
   "nbconvert_exporter": "python",
   "pygments_lexer": "ipython3",
   "version": "3.13.5"
  }
 },
 "nbformat": 4,
 "nbformat_minor": 5
}
