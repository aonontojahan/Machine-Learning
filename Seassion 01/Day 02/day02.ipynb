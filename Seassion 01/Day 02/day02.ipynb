{
 "cells": [
  {
   "cell_type": "markdown",
   "id": "35609ef3",
   "metadata": {},
   "source": [
    "Secound Day of Machine Learning\n",
    "Lets try some basic operation in Python"
   ]
  },
  {
   "cell_type": "code",
   "execution_count": 1,
   "id": "a8e9b738",
   "metadata": {},
   "outputs": [
    {
     "name": "stdout",
     "output_type": "stream",
     "text": [
      "A_o_n_o_n_t_o\n",
      "A\n",
      "o\n",
      "n\n",
      "o\n",
      "n\n",
      "t\n",
      "o\n"
     ]
    }
   ],
   "source": [
    "name = input(\"Enter your name: \")\n",
    "print(*name, sep = \"_\")\n",
    "print(*name, sep = \"\\n\")"
   ]
  },
  {
   "cell_type": "code",
   "execution_count": 2,
   "id": "36179f1c",
   "metadata": {},
   "outputs": [
    {
     "name": "stdout",
     "output_type": "stream",
     "text": [
      "Addition: 9\n",
      "num1 + num2 = 9\n",
      "Subtraction: 1\n",
      "Multiplication: 20\n",
      "Division: 1.25\n",
      "Floor Division: 1\n",
      "Modulus: 1\n",
      "Exponentiation: 625\n"
     ]
    }
   ],
   "source": [
    "#Arithmetic Operations\n",
    "num1 = int(input(\"Enter first number: \"))\n",
    "num2 = int(input(\"Enter second number: \"))\n",
    "\n",
    "print(\"Addition:\", num1 + num2)\n",
    "print(f\"num1 + num2 = {num1 + num2}\")\n",
    "print(\"Subtraction:\", num1 - num2)\n",
    "print(\"Multiplication:\", num1 * num2)\n",
    "print(\"Division:\", num1 / num2)\n",
    "print(\"Floor Division:\", num1 // num2)\n",
    "print(\"Modulus:\", num1 % num2)\n",
    "print(\"Exponentiation:\", num1 ** num2)"
   ]
  },
  {
   "cell_type": "code",
   "execution_count": 3,
   "id": "70e6f84b",
   "metadata": {},
   "outputs": [
    {
     "name": "stdout",
     "output_type": "stream",
     "text": [
      "Equal to (==): True\n",
      "Not equal to (!=): False\n",
      "Greater than (>): False\n",
      "Less than (<): False\n",
      "Greater than or equal to (>=): True\n",
      "Less than or equal to (<=): True\n"
     ]
    }
   ],
   "source": [
    "# Comparrison Operators\n",
    "num1 = int(input(\"Enter first number: \"))\n",
    "num2 = int(input(\"Enter second number: \"))\n",
    "print(\"Equal to (==):\", num1 == num2)\n",
    "print(\"Not equal to (!=):\", num1 != num2)\n",
    "print(\"Greater than (>):\", num1 > num2) \n",
    "print(\"Less than (<):\", num1 < num2)\n",
    "print(\"Greater than or equal to (>=):\", num1 >= num2)\n",
    "print(\"Less than or equal to (<=):\", num1 <= num2)"
   ]
  },
  {
   "cell_type": "code",
   "execution_count": 4,
   "id": "09650bfc",
   "metadata": {},
   "outputs": [
    {
     "name": "stdout",
     "output_type": "stream",
     "text": [
      "a and b: False\n",
      "a or b: True\n",
      "not a: False\n"
     ]
    }
   ],
   "source": [
    "# Logical Operators\n",
    "a = True\n",
    "b = False\n",
    "print(\"a and b:\", a and b)  # Logical AND\n",
    "print(\"a or b:\", a or b)    # Logical OR\n",
    "print(\"not a:\", not a)       # Logical NOT"
   ]
  }
 ],
 "metadata": {
  "kernelspec": {
   "display_name": ".venv",
   "language": "python",
   "name": "python3"
  },
  "language_info": {
   "codemirror_mode": {
    "name": "ipython",
    "version": 3
   },
   "file_extension": ".py",
   "mimetype": "text/x-python",
   "name": "python",
   "nbconvert_exporter": "python",
   "pygments_lexer": "ipython3",
   "version": "3.13.5"
  }
 },
 "nbformat": 4,
 "nbformat_minor": 5
}
