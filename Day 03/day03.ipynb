{
 "cells": [
  {
   "cell_type": "markdown",
   "id": "5a8954b9",
   "metadata": {},
   "source": [
    "Git\n",
    "GitHub\n",
    "VS Code\n",
    "Git Command:\n",
    "git status\n",
    "git init\n",
    "git add .\n",
    "git commit -m \"Whatever you want to write\"\n",
    "git push origin main\n"
   ]
  }
 ],
 "metadata": {
  "language_info": {
   "name": "python"
  }
 },
 "nbformat": 4,
 "nbformat_minor": 5
}
